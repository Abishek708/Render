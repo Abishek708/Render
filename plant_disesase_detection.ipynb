{
  "cells": [
    {
      "cell_type": "code",
      "execution_count": null,
      "metadata": {
        "id": "tSL6ZQfO5PgL"
      },
      "outputs": [],
      "source": [
        "import pandas as pd\n",
        "import os\n",
        "import numpy as np\n",
        "import seaborn as sns\n",
        "import json\n",
        "import tensorflow as tf\n",
        "import matplotlib.pyplot as plt\n",
        "import matplotlib.image as mpimg\n",
        "from PIL import Image\n",
        "from zipfile import ZipFile\n",
        "from sklearn.model_selection import train_test_split\n"
      ]
    },
    {
      "cell_type": "code",
      "execution_count": null,
      "metadata": {
        "id": "6-n2onD75PgQ"
      },
      "outputs": [],
      "source": [
        "from tensorflow.keras import layers, models\n",
        "from tensorflow.keras.applications import EfficientNetB3\n",
        "from tensorflow.keras.layers import Dense, Activation,Dropout,Conv2D, MaxPooling2D,BatchNormalization\n",
        "from tensorflow.keras.optimizers import Adam, Adamax\n",
        "from tensorflow.keras.metrics import categorical_crossentropy\n",
        "from tensorflow.keras import regularizers\n",
        "from tensorflow.keras.callbacks import EarlyStopping, ReduceLROnPlateau\n",
        "from tensorflow.keras.preprocessing.image import ImageDataGenerator"
      ]
    },
    {
      "cell_type": "code",
      "execution_count": null,
      "metadata": {
        "colab": {
          "base_uri": "https://localhost:8080/"
        },
        "id": "RZw6_PIj5PgS",
        "outputId": "5d23eb72-d309-4bc1-f6c0-c00b5583da2f"
      },
      "outputs": [],
      "source": [
        "path='/content/plantvillage-dataset/plantvillage dataset/color'\n",
        "data_classes=os.listdir(path)\n",
        "print(data_classes)"
      ]
    },
    {
      "cell_type": "code",
      "execution_count": null,
      "metadata": {
        "colab": {
          "base_uri": "https://localhost:8080/"
        },
        "id": "EsaBzP6P5PgX",
        "outputId": "c3498a61-a668-4285-c697-09f2fca97ac5"
      },
      "outputs": [],
      "source": [
        "class_nam=[]\n",
        "class_img=[]\n",
        "image_paths=[]\n",
        "min_sample=7\n",
        "for item in data_classes:\n",
        "    class_path=os.path.join(path,item)\n",
        "    class_list=os.listdir(class_path)\n",
        "\n",
        "    if len(class_list)>=min_sample:\n",
        "        class_nam.append(item)\n",
        "        for image in class_list:\n",
        "            class_img.append((item,image,os.path.join(class_path,image)))\n",
        "            image_path=os.path.join(class_path,image)\n",
        "            image_paths.append(image_path)\n",
        "    else:\n",
        "        print(item, ' has only', len(class_list),\n",
        "              ' so it was removed')\n",
        "print(len(class_nam))\n",
        "print(image_paths[:5])"
      ]
    },
    {
      "cell_type": "code",
      "execution_count": null,
      "metadata": {
        "colab": {
          "base_uri": "https://localhost:8080/"
        },
        "id": "U4C9w8JQ5PgY",
        "outputId": "567f58d5-dc31-45b8-e187-6244f86c7676"
      },
      "outputs": [],
      "source": [
        "df=pd.DataFrame(data=class_img,columns=['Label','Images','Path'])\n",
        "df.info()"
      ]
    },
    {
      "cell_type": "code",
      "execution_count": null,
      "metadata": {
        "colab": {
          "base_uri": "https://localhost:8080/"
        },
        "id": "I_nMsCe45Pga",
        "outputId": "2b3f1ad8-53fe-4ddb-c4d6-eb082e03ee28"
      },
      "outputs": [],
      "source": [
        "print('Total number of images:',len(df))\n",
        "label_count=df['Label'].value_counts()\n",
        "print(label_count)"
      ]
    },
    {
      "cell_type": "code",
      "execution_count": null,
      "metadata": {
        "colab": {
          "base_uri": "https://localhost:8080/",
          "height": 206
        },
        "id": "_wvEkUiU5Pgb",
        "outputId": "32e1bb4b-37d2-46b5-f78e-0ac0946fe12f"
      },
      "outputs": [],
      "source": [
        "df.head()"
      ]
    },
    {
      "cell_type": "code",
      "execution_count": null,
      "metadata": {
        "colab": {
          "base_uri": "https://localhost:8080/",
          "height": 807
        },
        "id": "KnGUaNS15Pgc",
        "outputId": "fac8a0e2-d3e0-4c5a-8be4-e7730c0898de"
      },
      "outputs": [],
      "source": [
        "class_counts = df['Label'].value_counts()\n",
        "\n",
        "plt.figure(figsize=(12, 8))\n",
        "ax = sns.barplot(x=class_counts.values, y=class_counts.index, orient='h')\n",
        "plt.title('Class Distribution')\n",
        "plt.xlabel('Number of Images')\n",
        "plt.ylabel('Plant Types')\n",
        "plt.tight_layout() \n",
        "\n",
        "\n",
        "for i, v in enumerate(class_counts.values):\n",
        "    ax.text(v + 5, i, str(v), color='black', va='center')\n",
        "\n",
        "plt.show()"
      ]
    },
    {
      "cell_type": "code",
      "execution_count": null,
      "metadata": {
        "colab": {
          "base_uri": "https://localhost:8080/",
          "height": 454
        },
        "id": "O55H4bqw5Pge",
        "outputId": "0c650438-2ef4-4c1c-ee57-39278935f721"
      },
      "outputs": [],
      "source": [
        "img_path = df.Path[0]\n",
        "img = mpimg.imread(img_path)\n",
        "plt.imshow(img)\n"
      ]
    },
    {
      "cell_type": "code",
      "execution_count": null,
      "metadata": {
        "id": "PVQXR5md5Pgf"
      },
      "outputs": [],
      "source": [
        "img_size = 224\n",
        "batch_size = 32"
      ]
    },
    {
      "cell_type": "code",
      "execution_count": null,
      "metadata": {
        "id": "TyXdClNN5Pgg"
      },
      "outputs": [],
      "source": [
        "data_gen = ImageDataGenerator(\n",
        "    rescale = 1./255,\n",
        "    validation_split = 0.2\n",
        ")"
      ]
    },
    {
      "cell_type": "code",
      "execution_count": null,
      "metadata": {
        "colab": {
          "base_uri": "https://localhost:8080/"
        },
        "id": "1WiwJKJHEEAq",
        "outputId": "4e108ce2-edf8-4270-f1e7-423d3e1ac007"
      },
      "outputs": [],
      "source": [
        "base_model = EfficientNetB3(weights='imagenet', include_top=False, input_shape=(224, 224, 3))\n",
        "base_model.trainable = False"
      ]
    },
    {
      "cell_type": "code",
      "execution_count": null,
      "metadata": {
        "id": "fiD-PYVEEHyI"
      },
      "outputs": [],
      "source": [
        "base_model.trainable = True\n",
        "for layer in base_model.layers[:-20]:\n",
        "    layer.trainable = False"
      ]
    },
    {
      "cell_type": "code",
      "execution_count": null,
      "metadata": {
        "colab": {
          "base_uri": "https://localhost:8080/"
        },
        "id": "AlJPxRSF5Pgh",
        "outputId": "0d63cbc1-ab2e-457c-f1f0-0cf550fe58a4"
      },
      "outputs": [],
      "source": [
        "train_data = data_gen.flow_from_directory(\n",
        "    path,\n",
        "    target_size = (img_size,img_size),\n",
        "    batch_size = batch_size,\n",
        "    subset= 'training',\n",
        "    class_mode = 'categorical'\n",
        ")"
      ]
    },
    {
      "cell_type": "code",
      "execution_count": null,
      "metadata": {
        "colab": {
          "base_uri": "https://localhost:8080/"
        },
        "id": "skKjchq75Pgi",
        "outputId": "925a654a-ee83-42a5-d14c-c62720140cae"
      },
      "outputs": [],
      "source": [
        "test_data = data_gen.flow_from_directory(\n",
        "    path,\n",
        "    target_size = (img_size,img_size),\n",
        "    batch_size = batch_size,\n",
        "    subset= 'validation',\n",
        "    class_mode = 'categorical'\n",
        ")"
      ]
    },
    {
      "cell_type": "code",
      "execution_count": null,
      "metadata": {
        "id": "pJKeGamP5Pgj"
      },
      "outputs": [],
      "source": [
        "model = models.Sequential()\n",
        "model.add(layers.Conv2D(32, (3,3),activation='relu', input_shape=(img_size, img_size, 3)))\n",
        "model.add(layers.MaxPooling2D(2,2))\n",
        "\n",
        "model.add(layers.Conv2D(64, (3,3),activation='relu'))\n",
        "model.add(layers.MaxPooling2D(2,2))\n",
        "\n",
        "model.add(layers.Flatten())\n",
        "model.add(layers.Dense(256,activation='relu'))\n",
        "model.add(layers.Dense(train_data.num_classes,activation='softmax'))"
      ]
    },
    {
      "cell_type": "code",
      "execution_count": null,
      "metadata": {
        "colab": {
          "base_uri": "https://localhost:8080/",
          "height": 363
        },
        "id": "zYf4HJZM5Pgk",
        "outputId": "012785fd-e3ff-4329-de12-22a63064bf5d"
      },
      "outputs": [],
      "source": [
        "model.summary()"
      ]
    },
    {
      "cell_type": "code",
      "execution_count": null,
      "metadata": {
        "id": "Gwz_xiStdKLj"
      },
      "outputs": [],
      "source": [
        "early_stop = EarlyStopping(\n",
        "    monitor='val_accuracy',\n",
        "    patience=5,\n",
        "    restore_best_weights=True,\n",
        "    verbose=1\n",
        ")"
      ]
    },
    {
      "cell_type": "code",
      "execution_count": null,
      "metadata": {
        "id": "NRUzkNa4dJ4f"
      },
      "outputs": [],
      "source": [
        "reduce_lr = ReduceLROnPlateau(\n",
        "    monitor='val_loss',\n",
        "    factor=0.2,\n",
        "    patience=3,\n",
        "    min_lr=1e-6,\n",
        "    verbose=1\n",
        ")"
      ]
    },
    {
      "cell_type": "code",
      "execution_count": null,
      "metadata": {
        "id": "wABhwXqN5Pgl"
      },
      "outputs": [],
      "source": [
        "model.compile(\n",
        "    optimizer='adam',\n",
        "    loss='categorical_crossentropy',\n",
        "    metrics=['accuracy']\n",
        ")"
      ]
    },
    {
      "cell_type": "code",
      "execution_count": null,
      "metadata": {
        "colab": {
          "base_uri": "https://localhost:8080/"
        },
        "id": "jkWOB5SA5Pgm",
        "outputId": "2f97b43e-bf47-4f39-ae0b-8512bc2cd62b"
      },
      "outputs": [],
      "source": [
        "history = model.fit(\n",
        "    train_data,\n",
        "    steps_per_epoch = train_data.samples // batch_size,\n",
        "    epochs = 15,\n",
        "    validation_data = test_data,\n",
        "    validation_steps = test_data.samples // batch_size,\n",
        "    callbacks=[early_stop, reduce_lr]\n",
        ")"
      ]
    },
    {
      "cell_type": "code",
      "execution_count": null,
      "metadata": {
        "colab": {
          "base_uri": "https://localhost:8080/"
        },
        "id": "jmhM4ksW5Pgn",
        "outputId": "ce900613-13aa-441d-db59-8f669d68ffa5"
      },
      "outputs": [],
      "source": [
        "print(\"Evalutind Model\")\n",
        "val_loss, val_accuracy = model.evaluate(test_data, steps = test_data.samples // batch_size)\n",
        "print(f\"Validation score is {val_accuracy * 100:.2f}%\")"
      ]
    },
    {
      "cell_type": "code",
      "execution_count": null,
      "metadata": {
        "id": "q4kLLsin5Pgo"
      },
      "outputs": [],
      "source": [
        "def load_and_preprocess_image(img_path, target_size=(224,224)):\n",
        "    img = Image.open(img_path)\n",
        "    img = img.resize(target_size)\n",
        "\n",
        "    img_array = np.array(img)\n",
        "    img_array = np.expand_dims(img_array, axis=0)\n",
        "    img_array = img_array.astype('float32') / 255.\n",
        "    return img_array\n"
      ]
    },
    {
      "cell_type": "code",
      "execution_count": null,
      "metadata": {
        "id": "Kv4vuEuB5Pgo"
      },
      "outputs": [],
      "source": [
        "def predict_image(model, img_path, class_indices):\n",
        "    preprocessed_img = load_and_preprocess_image(img_path)\n",
        "    prediction = model.predict(preprocessed_img)\n",
        "    predicted_class_index = np.argmax(prediction, axis=1)[0]\n",
        "    predicted_class_name = class_indices[predicted_class_index]\n",
        "    return predicted_class_name\n"
      ]
    },
    {
      "cell_type": "code",
      "execution_count": null,
      "metadata": {
        "id": "l7KG4hsn5Pgp"
      },
      "outputs": [],
      "source": [
        "class_indices = {v : k for k, v in train_data.class_indices.items()}"
      ]
    },
    {
      "cell_type": "code",
      "execution_count": null,
      "metadata": {
        "colab": {
          "base_uri": "https://localhost:8080/"
        },
        "id": "N5fyIZWe5Pgq",
        "outputId": "2057ee05-6044-41c7-9359-90e081189919"
      },
      "outputs": [],
      "source": [
        "class_indices"
      ]
    },
    {
      "cell_type": "code",
      "execution_count": null,
      "metadata": {
        "id": "v2VOIH_p5Pgr"
      },
      "outputs": [],
      "source": [
        "json.dump(class_indices, open('class_indices.json', 'w'))"
      ]
    },
    {
      "cell_type": "code",
      "execution_count": null,
      "metadata": {
        "id": "vmfm12Ik5Pgs"
      },
      "outputs": [],
      "source": [
        "img_path = '/content/merged_dataset/Flag Smut/0281.jpg'\n",
        "#img_path = '/content/plant-disease-expert/Image Data base/Image Data base/Blueberry healthy/Blueberry_healthy10.jpg'\n",
        "#img_path = '/content/plant-disease-expert/Image Data base/Image Data base/Brown spot in rice leaf/Brown_spot_in_rice_leaf1.jpg'\n",
        "\n"
      ]
    },
    {
      "cell_type": "code",
      "execution_count": null,
      "metadata": {
        "colab": {
          "base_uri": "https://localhost:8080/"
        },
        "id": "QZ8iUk425Pgs",
        "outputId": "592644f9-0a8d-4a14-ccdf-793474c8e238"
      },
      "outputs": [],
      "source": [
        "result = predict_image(model, img_path, class_indices)\n",
        "\n",
        "print(\"predicted disease of palnt is\", result)"
      ]
    },
    {
      "cell_type": "code",
      "execution_count": null,
      "metadata": {
        "id": "kZENo2eybDPv"
      },
      "outputs": [],
      "source": [
        "import pickle"
      ]
    },
    {
      "cell_type": "code",
      "execution_count": null,
      "metadata": {
        "id": "aXfBoNR1bPGV"
      },
      "outputs": [],
      "source": [
        "with open(\"model.pkl\", \"wb\") as f:\n",
        "    pickle.dump(model, f)"
      ]
    }
  ],
  "metadata": {
    "accelerator": "GPU",
    "colab": {
      "gpuType": "T4",
      "provenance": []
    },
    "kernelspec": {
      "display_name": "Python 3",
      "name": "python3"
    },
    "language_info": {
      "codemirror_mode": {
        "name": "ipython",
        "version": 3
      },
      "file_extension": ".py",
      "mimetype": "text/x-python",
      "name": "python",
      "nbconvert_exporter": "python",
      "pygments_lexer": "ipython3",
      "version": "3.12.3"
    }
  },
  "nbformat": 4,
  "nbformat_minor": 0
}
